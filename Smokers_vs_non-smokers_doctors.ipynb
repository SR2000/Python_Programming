{
 "cells": [
  {
   "cell_type": "markdown",
   "metadata": {},
   "source": [
    "## Objective"
   ]
  },
  {
   "cell_type": "markdown",
   "metadata": {},
   "source": [
    "#### The study was undertaken to study the effects of aging versus smoking on deaths caused by coronary artery disease, as pertaining to doctors."
   ]
  },
  {
   "cell_type": "markdown",
   "metadata": {},
   "source": [
    "## Description of the data set"
   ]
  },
  {
   "cell_type": "markdown",
   "metadata": {},
   "source": [
    "#### The data set, breslow.csv was loaded from https://vincentarelbundock.github.io/Rdatasets/datasets.html. The data set has few records since data for several doctors were summed up for every age group. The data frame contains the following columns-\n",
    "#### age- The mid-point of the 10 year age-group for the doctors.\n",
    "#### smoke- An indicator of whether the doctors smoked (1) or not (0).\n",
    "#### n- The number of person-years in the category.\n",
    "#### y- The number of deaths attributed to coronary artery disease.\n",
    "#### ns- The number of smoker years in the category (smoke*n)."
   ]
  },
  {
   "cell_type": "markdown",
   "metadata": {},
   "source": [
    "## Methodology"
   ]
  },
  {
   "cell_type": "markdown",
   "metadata": {},
   "source": [
    "### Import the necessary libraries"
   ]
  },
  {
   "cell_type": "code",
   "execution_count": 1,
   "metadata": {},
   "outputs": [
    {
     "name": "stdout",
     "output_type": "stream",
     "text": [
      "Libraries imported.\n"
     ]
    }
   ],
   "source": [
    "import pandas as pd\n",
    "import seaborn as sns\n",
    "import requests\n",
    "import io\n",
    "import matplotlib.pyplot as plt\n",
    "from sklearn.linear_model import LinearRegression\n",
    "print('Libraries imported.')"
   ]
  },
  {
   "cell_type": "markdown",
   "metadata": {},
   "source": [
    "### Load the dataset and wrangle the data"
   ]
  },
  {
   "cell_type": "code",
   "execution_count": 2,
   "metadata": {},
   "outputs": [
    {
     "data": {
      "text/html": [
       "<div>\n",
       "<style scoped>\n",
       "    .dataframe tbody tr th:only-of-type {\n",
       "        vertical-align: middle;\n",
       "    }\n",
       "\n",
       "    .dataframe tbody tr th {\n",
       "        vertical-align: top;\n",
       "    }\n",
       "\n",
       "    .dataframe thead th {\n",
       "        text-align: right;\n",
       "    }\n",
       "</style>\n",
       "<table border=\"1\" class=\"dataframe\">\n",
       "  <thead>\n",
       "    <tr style=\"text-align: right;\">\n",
       "      <th></th>\n",
       "      <th>Unnamed: 0</th>\n",
       "      <th>age</th>\n",
       "      <th>smoke</th>\n",
       "      <th>n</th>\n",
       "      <th>y</th>\n",
       "      <th>ns</th>\n",
       "    </tr>\n",
       "  </thead>\n",
       "  <tbody>\n",
       "    <tr>\n",
       "      <th>0</th>\n",
       "      <td>1</td>\n",
       "      <td>40</td>\n",
       "      <td>0</td>\n",
       "      <td>18790</td>\n",
       "      <td>2</td>\n",
       "      <td>0</td>\n",
       "    </tr>\n",
       "    <tr>\n",
       "      <th>1</th>\n",
       "      <td>2</td>\n",
       "      <td>50</td>\n",
       "      <td>0</td>\n",
       "      <td>10673</td>\n",
       "      <td>12</td>\n",
       "      <td>0</td>\n",
       "    </tr>\n",
       "    <tr>\n",
       "      <th>2</th>\n",
       "      <td>3</td>\n",
       "      <td>60</td>\n",
       "      <td>0</td>\n",
       "      <td>5710</td>\n",
       "      <td>28</td>\n",
       "      <td>0</td>\n",
       "    </tr>\n",
       "    <tr>\n",
       "      <th>3</th>\n",
       "      <td>4</td>\n",
       "      <td>70</td>\n",
       "      <td>0</td>\n",
       "      <td>2585</td>\n",
       "      <td>28</td>\n",
       "      <td>0</td>\n",
       "    </tr>\n",
       "    <tr>\n",
       "      <th>4</th>\n",
       "      <td>5</td>\n",
       "      <td>80</td>\n",
       "      <td>0</td>\n",
       "      <td>1462</td>\n",
       "      <td>31</td>\n",
       "      <td>0</td>\n",
       "    </tr>\n",
       "    <tr>\n",
       "      <th>5</th>\n",
       "      <td>6</td>\n",
       "      <td>40</td>\n",
       "      <td>1</td>\n",
       "      <td>52407</td>\n",
       "      <td>32</td>\n",
       "      <td>52407</td>\n",
       "    </tr>\n",
       "    <tr>\n",
       "      <th>6</th>\n",
       "      <td>7</td>\n",
       "      <td>50</td>\n",
       "      <td>1</td>\n",
       "      <td>43248</td>\n",
       "      <td>104</td>\n",
       "      <td>43248</td>\n",
       "    </tr>\n",
       "    <tr>\n",
       "      <th>7</th>\n",
       "      <td>8</td>\n",
       "      <td>60</td>\n",
       "      <td>1</td>\n",
       "      <td>28612</td>\n",
       "      <td>206</td>\n",
       "      <td>28612</td>\n",
       "    </tr>\n",
       "    <tr>\n",
       "      <th>8</th>\n",
       "      <td>9</td>\n",
       "      <td>70</td>\n",
       "      <td>1</td>\n",
       "      <td>12663</td>\n",
       "      <td>186</td>\n",
       "      <td>12663</td>\n",
       "    </tr>\n",
       "    <tr>\n",
       "      <th>9</th>\n",
       "      <td>10</td>\n",
       "      <td>80</td>\n",
       "      <td>1</td>\n",
       "      <td>5317</td>\n",
       "      <td>102</td>\n",
       "      <td>5317</td>\n",
       "    </tr>\n",
       "  </tbody>\n",
       "</table>\n",
       "</div>"
      ],
      "text/plain": [
       "   Unnamed: 0  age  smoke      n    y     ns\n",
       "0           1   40      0  18790    2      0\n",
       "1           2   50      0  10673   12      0\n",
       "2           3   60      0   5710   28      0\n",
       "3           4   70      0   2585   28      0\n",
       "4           5   80      0   1462   31      0\n",
       "5           6   40      1  52407   32  52407\n",
       "6           7   50      1  43248  104  43248\n",
       "7           8   60      1  28612  206  28612\n",
       "8           9   70      1  12663  186  12663\n",
       "9          10   80      1   5317  102   5317"
      ]
     },
     "execution_count": 2,
     "metadata": {},
     "output_type": "execute_result"
    }
   ],
   "source": [
    "# For accesing the file locally, add an additional backslash before file name to eliminate a bug as in \n",
    "'C:\\\\Users\\galax\\Data_Sets\\\\breslow.csv'\n",
    "\n",
    "# Access the raw data set that was uploaded to a github repository\n",
    "url= 'https://raw.githubusercontent.com/SR2000/Data_Sets/master/breslow.csv'\n",
    "s=requests.get(url).content\n",
    "df=pd.read_csv(io.StringIO(s.decode('utf-8')))\n",
    "\n",
    "df"
   ]
  },
  {
   "cell_type": "code",
   "execution_count": 3,
   "metadata": {},
   "outputs": [
    {
     "data": {
      "text/html": [
       "<div>\n",
       "<style scoped>\n",
       "    .dataframe tbody tr th:only-of-type {\n",
       "        vertical-align: middle;\n",
       "    }\n",
       "\n",
       "    .dataframe tbody tr th {\n",
       "        vertical-align: top;\n",
       "    }\n",
       "\n",
       "    .dataframe thead th {\n",
       "        text-align: right;\n",
       "    }\n",
       "</style>\n",
       "<table border=\"1\" class=\"dataframe\">\n",
       "  <thead>\n",
       "    <tr style=\"text-align: right;\">\n",
       "      <th></th>\n",
       "      <th>age</th>\n",
       "      <th>smoke</th>\n",
       "      <th>n</th>\n",
       "      <th>y</th>\n",
       "      <th>ns</th>\n",
       "    </tr>\n",
       "  </thead>\n",
       "  <tbody>\n",
       "    <tr>\n",
       "      <th>0</th>\n",
       "      <td>40</td>\n",
       "      <td>0</td>\n",
       "      <td>18790</td>\n",
       "      <td>2</td>\n",
       "      <td>0</td>\n",
       "    </tr>\n",
       "    <tr>\n",
       "      <th>1</th>\n",
       "      <td>50</td>\n",
       "      <td>0</td>\n",
       "      <td>10673</td>\n",
       "      <td>12</td>\n",
       "      <td>0</td>\n",
       "    </tr>\n",
       "    <tr>\n",
       "      <th>2</th>\n",
       "      <td>60</td>\n",
       "      <td>0</td>\n",
       "      <td>5710</td>\n",
       "      <td>28</td>\n",
       "      <td>0</td>\n",
       "    </tr>\n",
       "    <tr>\n",
       "      <th>3</th>\n",
       "      <td>70</td>\n",
       "      <td>0</td>\n",
       "      <td>2585</td>\n",
       "      <td>28</td>\n",
       "      <td>0</td>\n",
       "    </tr>\n",
       "    <tr>\n",
       "      <th>4</th>\n",
       "      <td>80</td>\n",
       "      <td>0</td>\n",
       "      <td>1462</td>\n",
       "      <td>31</td>\n",
       "      <td>0</td>\n",
       "    </tr>\n",
       "    <tr>\n",
       "      <th>5</th>\n",
       "      <td>40</td>\n",
       "      <td>1</td>\n",
       "      <td>52407</td>\n",
       "      <td>32</td>\n",
       "      <td>52407</td>\n",
       "    </tr>\n",
       "    <tr>\n",
       "      <th>6</th>\n",
       "      <td>50</td>\n",
       "      <td>1</td>\n",
       "      <td>43248</td>\n",
       "      <td>104</td>\n",
       "      <td>43248</td>\n",
       "    </tr>\n",
       "    <tr>\n",
       "      <th>7</th>\n",
       "      <td>60</td>\n",
       "      <td>1</td>\n",
       "      <td>28612</td>\n",
       "      <td>206</td>\n",
       "      <td>28612</td>\n",
       "    </tr>\n",
       "    <tr>\n",
       "      <th>8</th>\n",
       "      <td>70</td>\n",
       "      <td>1</td>\n",
       "      <td>12663</td>\n",
       "      <td>186</td>\n",
       "      <td>12663</td>\n",
       "    </tr>\n",
       "    <tr>\n",
       "      <th>9</th>\n",
       "      <td>80</td>\n",
       "      <td>1</td>\n",
       "      <td>5317</td>\n",
       "      <td>102</td>\n",
       "      <td>5317</td>\n",
       "    </tr>\n",
       "  </tbody>\n",
       "</table>\n",
       "</div>"
      ],
      "text/plain": [
       "   age  smoke      n    y     ns\n",
       "0   40      0  18790    2      0\n",
       "1   50      0  10673   12      0\n",
       "2   60      0   5710   28      0\n",
       "3   70      0   2585   28      0\n",
       "4   80      0   1462   31      0\n",
       "5   40      1  52407   32  52407\n",
       "6   50      1  43248  104  43248\n",
       "7   60      1  28612  206  28612\n",
       "8   70      1  12663  186  12663\n",
       "9   80      1   5317  102   5317"
      ]
     },
     "execution_count": 3,
     "metadata": {},
     "output_type": "execute_result"
    }
   ],
   "source": [
    "# Drop the first column and reset the index\n",
    "df=df.drop('Unnamed: 0', axis=1)\n",
    "df.reset_index(drop= True, inplace=True)\n",
    "df"
   ]
  },
  {
   "cell_type": "code",
   "execution_count": 4,
   "metadata": {},
   "outputs": [
    {
     "data": {
      "text/html": [
       "<div>\n",
       "<style scoped>\n",
       "    .dataframe tbody tr th:only-of-type {\n",
       "        vertical-align: middle;\n",
       "    }\n",
       "\n",
       "    .dataframe tbody tr th {\n",
       "        vertical-align: top;\n",
       "    }\n",
       "\n",
       "    .dataframe thead th {\n",
       "        text-align: right;\n",
       "    }\n",
       "</style>\n",
       "<table border=\"1\" class=\"dataframe\">\n",
       "  <thead>\n",
       "    <tr style=\"text-align: right;\">\n",
       "      <th></th>\n",
       "      <th>Age</th>\n",
       "      <th>Smoke</th>\n",
       "      <th>Person-years</th>\n",
       "      <th>Coronary_artery_disease_deaths</th>\n",
       "      <th>Smoking-years</th>\n",
       "    </tr>\n",
       "  </thead>\n",
       "  <tbody>\n",
       "    <tr>\n",
       "      <th>0</th>\n",
       "      <td>40</td>\n",
       "      <td>0</td>\n",
       "      <td>18790</td>\n",
       "      <td>2</td>\n",
       "      <td>0</td>\n",
       "    </tr>\n",
       "    <tr>\n",
       "      <th>1</th>\n",
       "      <td>50</td>\n",
       "      <td>0</td>\n",
       "      <td>10673</td>\n",
       "      <td>12</td>\n",
       "      <td>0</td>\n",
       "    </tr>\n",
       "    <tr>\n",
       "      <th>2</th>\n",
       "      <td>60</td>\n",
       "      <td>0</td>\n",
       "      <td>5710</td>\n",
       "      <td>28</td>\n",
       "      <td>0</td>\n",
       "    </tr>\n",
       "    <tr>\n",
       "      <th>3</th>\n",
       "      <td>70</td>\n",
       "      <td>0</td>\n",
       "      <td>2585</td>\n",
       "      <td>28</td>\n",
       "      <td>0</td>\n",
       "    </tr>\n",
       "    <tr>\n",
       "      <th>4</th>\n",
       "      <td>80</td>\n",
       "      <td>0</td>\n",
       "      <td>1462</td>\n",
       "      <td>31</td>\n",
       "      <td>0</td>\n",
       "    </tr>\n",
       "    <tr>\n",
       "      <th>5</th>\n",
       "      <td>40</td>\n",
       "      <td>1</td>\n",
       "      <td>52407</td>\n",
       "      <td>32</td>\n",
       "      <td>52407</td>\n",
       "    </tr>\n",
       "    <tr>\n",
       "      <th>6</th>\n",
       "      <td>50</td>\n",
       "      <td>1</td>\n",
       "      <td>43248</td>\n",
       "      <td>104</td>\n",
       "      <td>43248</td>\n",
       "    </tr>\n",
       "    <tr>\n",
       "      <th>7</th>\n",
       "      <td>60</td>\n",
       "      <td>1</td>\n",
       "      <td>28612</td>\n",
       "      <td>206</td>\n",
       "      <td>28612</td>\n",
       "    </tr>\n",
       "    <tr>\n",
       "      <th>8</th>\n",
       "      <td>70</td>\n",
       "      <td>1</td>\n",
       "      <td>12663</td>\n",
       "      <td>186</td>\n",
       "      <td>12663</td>\n",
       "    </tr>\n",
       "    <tr>\n",
       "      <th>9</th>\n",
       "      <td>80</td>\n",
       "      <td>1</td>\n",
       "      <td>5317</td>\n",
       "      <td>102</td>\n",
       "      <td>5317</td>\n",
       "    </tr>\n",
       "  </tbody>\n",
       "</table>\n",
       "</div>"
      ],
      "text/plain": [
       "   Age  Smoke  Person-years  Coronary_artery_disease_deaths  Smoking-years\n",
       "0   40      0         18790                               2              0\n",
       "1   50      0         10673                              12              0\n",
       "2   60      0          5710                              28              0\n",
       "3   70      0          2585                              28              0\n",
       "4   80      0          1462                              31              0\n",
       "5   40      1         52407                              32          52407\n",
       "6   50      1         43248                             104          43248\n",
       "7   60      1         28612                             206          28612\n",
       "8   70      1         12663                             186          12663\n",
       "9   80      1          5317                             102           5317"
      ]
     },
     "execution_count": 4,
     "metadata": {},
     "output_type": "execute_result"
    }
   ],
   "source": [
    "# Rename the columns to descriptive names\n",
    "df.rename(columns={'age':'Age','smoke':'Smoke','n':'Person-years','y':'Coronary_artery_disease_deaths','ns':'Smoking-years'}, inplace= True)\n",
    "df"
   ]
  },
  {
   "cell_type": "code",
   "execution_count": 5,
   "metadata": {},
   "outputs": [
    {
     "data": {
      "text/plain": [
       "Age                               int64\n",
       "Smoke                             int64\n",
       "Person-years                      int64\n",
       "Coronary_artery_disease_deaths    int64\n",
       "Smoking-years                     int64\n",
       "dtype: object"
      ]
     },
     "execution_count": 5,
     "metadata": {},
     "output_type": "execute_result"
    }
   ],
   "source": [
    "# Check the data types of the columns\n",
    "df.dtypes"
   ]
  },
  {
   "cell_type": "code",
   "execution_count": 6,
   "metadata": {},
   "outputs": [
    {
     "data": {
      "text/plain": [
       "Age                                  int64\n",
       "Smoke                             category\n",
       "Person-years                         int64\n",
       "Coronary_artery_disease_deaths       int64\n",
       "Smoking-years                        int64\n",
       "dtype: object"
      ]
     },
     "execution_count": 6,
     "metadata": {},
     "output_type": "execute_result"
    }
   ],
   "source": [
    "# Modify the 'Smoke' column to categorical since it contains indicators\n",
    "df['Smoke']= pd.Categorical(df['Smoke'])\n",
    "df.dtypes"
   ]
  },
  {
   "cell_type": "markdown",
   "metadata": {},
   "source": [
    "#### Person-years (Smoking- years for smokers) was assumed to contain the sum of all the years for all individuals in each age group. From the data, it was clear that the number of sampled doctors varied in every age group. Rather than look at the individuals, it was decided to look at the number of deaths for 40 person-years since in this case, the deaths will be compared at the same scale. 40 was used since it was the midpoint for the youngest age group."
   ]
  },
  {
   "cell_type": "code",
   "execution_count": 7,
   "metadata": {},
   "outputs": [
    {
     "data": {
      "text/html": [
       "<div>\n",
       "<style scoped>\n",
       "    .dataframe tbody tr th:only-of-type {\n",
       "        vertical-align: middle;\n",
       "    }\n",
       "\n",
       "    .dataframe tbody tr th {\n",
       "        vertical-align: top;\n",
       "    }\n",
       "\n",
       "    .dataframe thead th {\n",
       "        text-align: right;\n",
       "    }\n",
       "</style>\n",
       "<table border=\"1\" class=\"dataframe\">\n",
       "  <thead>\n",
       "    <tr style=\"text-align: right;\">\n",
       "      <th></th>\n",
       "      <th>Age</th>\n",
       "      <th>Smoke</th>\n",
       "      <th>Person-years</th>\n",
       "      <th>Coronary_artery_disease_deaths</th>\n",
       "      <th>Smoking-years</th>\n",
       "      <th>Deaths_per_40_person-years</th>\n",
       "    </tr>\n",
       "  </thead>\n",
       "  <tbody>\n",
       "    <tr>\n",
       "      <th>0</th>\n",
       "      <td>40</td>\n",
       "      <td>0</td>\n",
       "      <td>18790</td>\n",
       "      <td>2</td>\n",
       "      <td>0</td>\n",
       "      <td>0.004258</td>\n",
       "    </tr>\n",
       "    <tr>\n",
       "      <th>1</th>\n",
       "      <td>50</td>\n",
       "      <td>0</td>\n",
       "      <td>10673</td>\n",
       "      <td>12</td>\n",
       "      <td>0</td>\n",
       "      <td>0.044973</td>\n",
       "    </tr>\n",
       "    <tr>\n",
       "      <th>2</th>\n",
       "      <td>60</td>\n",
       "      <td>0</td>\n",
       "      <td>5710</td>\n",
       "      <td>28</td>\n",
       "      <td>0</td>\n",
       "      <td>0.196147</td>\n",
       "    </tr>\n",
       "    <tr>\n",
       "      <th>3</th>\n",
       "      <td>70</td>\n",
       "      <td>0</td>\n",
       "      <td>2585</td>\n",
       "      <td>28</td>\n",
       "      <td>0</td>\n",
       "      <td>0.433269</td>\n",
       "    </tr>\n",
       "    <tr>\n",
       "      <th>4</th>\n",
       "      <td>80</td>\n",
       "      <td>0</td>\n",
       "      <td>1462</td>\n",
       "      <td>31</td>\n",
       "      <td>0</td>\n",
       "      <td>0.848153</td>\n",
       "    </tr>\n",
       "    <tr>\n",
       "      <th>5</th>\n",
       "      <td>40</td>\n",
       "      <td>1</td>\n",
       "      <td>52407</td>\n",
       "      <td>32</td>\n",
       "      <td>52407</td>\n",
       "      <td>0.024424</td>\n",
       "    </tr>\n",
       "    <tr>\n",
       "      <th>6</th>\n",
       "      <td>50</td>\n",
       "      <td>1</td>\n",
       "      <td>43248</td>\n",
       "      <td>104</td>\n",
       "      <td>43248</td>\n",
       "      <td>0.096189</td>\n",
       "    </tr>\n",
       "    <tr>\n",
       "      <th>7</th>\n",
       "      <td>60</td>\n",
       "      <td>1</td>\n",
       "      <td>28612</td>\n",
       "      <td>206</td>\n",
       "      <td>28612</td>\n",
       "      <td>0.287991</td>\n",
       "    </tr>\n",
       "    <tr>\n",
       "      <th>8</th>\n",
       "      <td>70</td>\n",
       "      <td>1</td>\n",
       "      <td>12663</td>\n",
       "      <td>186</td>\n",
       "      <td>12663</td>\n",
       "      <td>0.587538</td>\n",
       "    </tr>\n",
       "    <tr>\n",
       "      <th>9</th>\n",
       "      <td>80</td>\n",
       "      <td>1</td>\n",
       "      <td>5317</td>\n",
       "      <td>102</td>\n",
       "      <td>5317</td>\n",
       "      <td>0.767350</td>\n",
       "    </tr>\n",
       "  </tbody>\n",
       "</table>\n",
       "</div>"
      ],
      "text/plain": [
       "   Age Smoke  Person-years  Coronary_artery_disease_deaths  Smoking-years  \\\n",
       "0   40     0         18790                               2              0   \n",
       "1   50     0         10673                              12              0   \n",
       "2   60     0          5710                              28              0   \n",
       "3   70     0          2585                              28              0   \n",
       "4   80     0          1462                              31              0   \n",
       "5   40     1         52407                              32          52407   \n",
       "6   50     1         43248                             104          43248   \n",
       "7   60     1         28612                             206          28612   \n",
       "8   70     1         12663                             186          12663   \n",
       "9   80     1          5317                             102           5317   \n",
       "\n",
       "   Deaths_per_40_person-years  \n",
       "0                    0.004258  \n",
       "1                    0.044973  \n",
       "2                    0.196147  \n",
       "3                    0.433269  \n",
       "4                    0.848153  \n",
       "5                    0.024424  \n",
       "6                    0.096189  \n",
       "7                    0.287991  \n",
       "8                    0.587538  \n",
       "9                    0.767350  "
      ]
     },
     "execution_count": 7,
     "metadata": {},
     "output_type": "execute_result"
    }
   ],
   "source": [
    "# Create a new column that contains the number of deaths per 40 person-years\n",
    "df['Deaths_per_40_person-years']= df['Coronary_artery_disease_deaths']*40/df['Person-years']\n",
    "df"
   ]
  },
  {
   "cell_type": "markdown",
   "metadata": {},
   "source": [
    "### Exploratory Data Analysis"
   ]
  },
  {
   "cell_type": "markdown",
   "metadata": {},
   "source": [
    "#### Statistical values for the data set were extracted."
   ]
  },
  {
   "cell_type": "code",
   "execution_count": 8,
   "metadata": {},
   "outputs": [
    {
     "data": {
      "text/html": [
       "<div>\n",
       "<style scoped>\n",
       "    .dataframe tbody tr th:only-of-type {\n",
       "        vertical-align: middle;\n",
       "    }\n",
       "\n",
       "    .dataframe tbody tr th {\n",
       "        vertical-align: top;\n",
       "    }\n",
       "\n",
       "    .dataframe thead th {\n",
       "        text-align: right;\n",
       "    }\n",
       "</style>\n",
       "<table border=\"1\" class=\"dataframe\">\n",
       "  <thead>\n",
       "    <tr style=\"text-align: right;\">\n",
       "      <th></th>\n",
       "      <th>Age</th>\n",
       "      <th>Person-years</th>\n",
       "      <th>Coronary_artery_disease_deaths</th>\n",
       "      <th>Smoking-years</th>\n",
       "      <th>Deaths_per_40_person-years</th>\n",
       "    </tr>\n",
       "  </thead>\n",
       "  <tbody>\n",
       "    <tr>\n",
       "      <th>count</th>\n",
       "      <td>10.00000</td>\n",
       "      <td>10.000000</td>\n",
       "      <td>10.000000</td>\n",
       "      <td>10.000000</td>\n",
       "      <td>10.000000</td>\n",
       "    </tr>\n",
       "    <tr>\n",
       "      <th>mean</th>\n",
       "      <td>60.00000</td>\n",
       "      <td>18146.700000</td>\n",
       "      <td>73.100000</td>\n",
       "      <td>14224.700000</td>\n",
       "      <td>0.329029</td>\n",
       "    </tr>\n",
       "    <tr>\n",
       "      <th>std</th>\n",
       "      <td>14.90712</td>\n",
       "      <td>17762.398937</td>\n",
       "      <td>73.421841</td>\n",
       "      <td>20002.030047</td>\n",
       "      <td>0.314786</td>\n",
       "    </tr>\n",
       "    <tr>\n",
       "      <th>min</th>\n",
       "      <td>40.00000</td>\n",
       "      <td>1462.000000</td>\n",
       "      <td>2.000000</td>\n",
       "      <td>0.000000</td>\n",
       "      <td>0.004258</td>\n",
       "    </tr>\n",
       "    <tr>\n",
       "      <th>25%</th>\n",
       "      <td>50.00000</td>\n",
       "      <td>5415.250000</td>\n",
       "      <td>28.000000</td>\n",
       "      <td>0.000000</td>\n",
       "      <td>0.057777</td>\n",
       "    </tr>\n",
       "    <tr>\n",
       "      <th>50%</th>\n",
       "      <td>60.00000</td>\n",
       "      <td>11668.000000</td>\n",
       "      <td>31.500000</td>\n",
       "      <td>2658.500000</td>\n",
       "      <td>0.242069</td>\n",
       "    </tr>\n",
       "    <tr>\n",
       "      <th>75%</th>\n",
       "      <td>70.00000</td>\n",
       "      <td>26156.500000</td>\n",
       "      <td>103.500000</td>\n",
       "      <td>24624.750000</td>\n",
       "      <td>0.548971</td>\n",
       "    </tr>\n",
       "    <tr>\n",
       "      <th>max</th>\n",
       "      <td>80.00000</td>\n",
       "      <td>52407.000000</td>\n",
       "      <td>206.000000</td>\n",
       "      <td>52407.000000</td>\n",
       "      <td>0.848153</td>\n",
       "    </tr>\n",
       "  </tbody>\n",
       "</table>\n",
       "</div>"
      ],
      "text/plain": [
       "            Age  Person-years  Coronary_artery_disease_deaths  Smoking-years  \\\n",
       "count  10.00000     10.000000                       10.000000      10.000000   \n",
       "mean   60.00000  18146.700000                       73.100000   14224.700000   \n",
       "std    14.90712  17762.398937                       73.421841   20002.030047   \n",
       "min    40.00000   1462.000000                        2.000000       0.000000   \n",
       "25%    50.00000   5415.250000                       28.000000       0.000000   \n",
       "50%    60.00000  11668.000000                       31.500000    2658.500000   \n",
       "75%    70.00000  26156.500000                      103.500000   24624.750000   \n",
       "max    80.00000  52407.000000                      206.000000   52407.000000   \n",
       "\n",
       "       Deaths_per_40_person-years  \n",
       "count                   10.000000  \n",
       "mean                     0.329029  \n",
       "std                      0.314786  \n",
       "min                      0.004258  \n",
       "25%                      0.057777  \n",
       "50%                      0.242069  \n",
       "75%                      0.548971  \n",
       "max                      0.848153  "
      ]
     },
     "execution_count": 8,
     "metadata": {},
     "output_type": "execute_result"
    }
   ],
   "source": [
    "df.describe()"
   ]
  },
  {
   "cell_type": "markdown",
   "metadata": {},
   "source": [
    "#### A line plot was created to compare the data for doctors who are smokers with those who are not."
   ]
  },
  {
   "cell_type": "code",
   "execution_count": 9,
   "metadata": {},
   "outputs": [
    {
     "data": {
      "text/plain": [
       "Text(0.5, 1.0, 'Coronary Artery Disease vs. Age')"
      ]
     },
     "execution_count": 9,
     "metadata": {},
     "output_type": "execute_result"
    },
    {
     "data": {
      "image/png": "[encoded data removed]",
      "text/plain": [
       "<Figure size 432x288 with 1 Axes>"
      ]
     },
     "metadata": {
      "needs_background": "light"
     },
     "output_type": "display_data"
    }
   ],
   "source": [
    "#Create a line plot to look at the relationship between deaths and age for smokers and non-smokers\n",
    "sns.lineplot(x= 'Age', y= 'Deaths_per_40_person-years', hue= 'Smoke', data= df)\n",
    "ax=plt.gca()\n",
    "ax.set_title('Coronary Artery Disease vs. Age')"
   ]
  },
  {
   "cell_type": "markdown",
   "metadata": {},
   "source": [
    "#### The plot clearly showed that age and deaths have a similar relationship for doctors who smoke and those who do not. This finding can be corroborated by fitting the data to a model."
   ]
  },
  {
   "cell_type": "markdown",
   "metadata": {},
   "source": [
    "## The Model"
   ]
  },
  {
   "cell_type": "markdown",
   "metadata": {},
   "source": [
    "#### A linear regression model was used to determine the best fit for the data. Correlation plots for smokers and non-smokers were first created to determine the trend and the strength of the correlation."
   ]
  },
  {
   "cell_type": "code",
   "execution_count": 10,
   "metadata": {},
   "outputs": [
    {
     "data": {
      "text/plain": [
       "(-0.6018116079524777, 0.9330984544142715)"
      ]
     },
     "execution_count": 10,
     "metadata": {},
     "output_type": "execute_result"
    },
    {
     "data": {
      "image/png": "[encoded data removed]",
      "text/plain": [
       "<Figure size 432x288 with 1 Axes>"
      ]
     },
     "metadata": {
      "needs_background": "light"
     },
     "output_type": "display_data"
    }
   ],
   "source": [
    "# Plot the correlation of deaths/40 person-years, with age for non-smokers\n",
    "sns.regplot(x= 'Age', y= 'Deaths_per_40_person-years', data= df[df['Smoke']==0])\n",
    "ax=plt.gca()\n",
    "ax.set_title('Correlation of Coronary Artery Disease Deaths with Age (Non-smokers)')\n",
    "plt.ylim()"
   ]
  },
  {
   "cell_type": "code",
   "execution_count": 11,
   "metadata": {},
   "outputs": [
    {
     "data": {
      "text/plain": [
       "(-0.2425969510630281, 0.8844420844669887)"
      ]
     },
     "execution_count": 11,
     "metadata": {},
     "output_type": "execute_result"
    },
    {
     "data": {
      "image/png": "[encoded data removed]",
      "text/plain": [
       "<Figure size 432x288 with 1 Axes>"
      ]
     },
     "metadata": {
      "needs_background": "light"
     },
     "output_type": "display_data"
    }
   ],
   "source": [
    "# Plot the correlation of deaths/40 person years, with age for smokers\n",
    "sns.regplot(x= 'Age', y= 'Deaths_per_40_person-years', data= df[df['Smoke']==1])\n",
    "ax=plt.gca()\n",
    "ax.set_title('Correlation of Coronary Artery Disease Deaths with Age (Smokers)')\n",
    "plt.ylim()"
   ]
  },
  {
   "cell_type": "markdown",
   "metadata": {},
   "source": [
    "#### The two plots above showed that deaths were positively correlated with age for doctors who smoke and those who do not. The correlation coefficients were very high in both cases- 0.9321 for non-smokers and 0.8844 for smokers."
   ]
  },
  {
   "cell_type": "code",
   "execution_count": 12,
   "metadata": {},
   "outputs": [],
   "source": [
    "# Set up the linear regression model\n",
    "lr= LinearRegression()\n",
    "X= df[['Age','Smoking-years']]\n",
    "Y= df['Deaths_per_40_person-years']"
   ]
  },
  {
   "cell_type": "code",
   "execution_count": 13,
   "metadata": {},
   "outputs": [
    {
     "data": {
      "text/plain": [
       "0.9264955128383805"
      ]
     },
     "execution_count": 13,
     "metadata": {},
     "output_type": "execute_result"
    }
   ],
   "source": [
    "# Fit the model to the data and calculate R-squared\n",
    "lm = LinearRegression()\n",
    "lm.fit(X,Y)\n",
    "lm.score(X,Y)"
   ]
  },
  {
   "cell_type": "code",
   "execution_count": 14,
   "metadata": {},
   "outputs": [
    {
     "data": {
      "text/plain": [
       "array([-0.11113251,  0.09966998,  0.31047247,  0.52127497,  0.73207746,\n",
       "       -0.04276489,  0.15608922,  0.3477983 ,  0.5377945 ,  0.73901376])"
      ]
     },
     "execution_count": 14,
     "metadata": {},
     "output_type": "execute_result"
    }
   ],
   "source": [
    "# Use the model to predict the Y-values from the X-values and confirm them by validating on the correlation plots\n",
    "lm.predict(X)"
   ]
  },
  {
   "cell_type": "markdown",
   "metadata": {},
   "source": [
    "#### The R-squared value for the model was 0.9265 indicating that most of the variation in deaths was explained by the variation in age."
   ]
  },
  {
   "cell_type": "markdown",
   "metadata": {},
   "source": [
    "## Results and Conclusions"
   ]
  },
  {
   "cell_type": "markdown",
   "metadata": {},
   "source": [
    "#### The study showed that age was positively correlated with coronary artery deaths for doctors who smoke and those who do not. The correlation coefficients were very high in both cases. On fitting the data to a linear regression model, the R-squared value for the model was 0.9265 indicating a strong fit. Based on the data set, it was concluded that age and not smoking increases the risk of coronary artery disease in doctors."
   ]
  }
 ],
 "metadata": {
  "kernelspec": {
   "display_name": "Python 3",
   "language": "python",
   "name": "python3"
  },
  "language_info": {
   "codemirror_mode": {
    "name": "ipython",
    "version": 3
   },
   "file_extension": ".py",
   "mimetype": "text/x-python",
   "name": "python",
   "nbconvert_exporter": "python",
   "pygments_lexer": "ipython3",
   "version": "3.7.6"
  }
 },
 "nbformat": 4,
 "nbformat_minor": 4
}
